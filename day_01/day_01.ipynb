{
 "cells": [
  {
   "cell_type": "code",
   "execution_count": null,
   "id": "initial_id",
   "metadata": {
    "ExecuteTime": {
     "end_time": "2024-12-02T00:45:53.342125Z",
     "start_time": "2024-12-02T00:45:53.338565Z"
    },
    "collapsed": true
   },
   "outputs": [
    {
     "name": "stdout",
     "output_type": "stream",
     "text": [
      "2344935\n"
     ]
    }
   ],
   "source": [
    "f = open('input.txt', 'r')\n",
    "lines = [line.rstrip().split() for line in  f]\n",
    "\n",
    "num = []\n",
    "left = []\n",
    "right = []\n",
    "distance = 0\n",
    "\n",
    "for arr in lines:\n",
    "    a = []\n",
    "    for i in arr:\n",
    "        a.append(int(i))\n",
    "    num.append(a)\n",
    "\n",
    "for arr in num:\n",
    "    left.append(arr[0])\n",
    "    right.append(arr[1])\n",
    "    \n",
    "sorted_left = sorted(left)\n",
    "sorted_right = sorted(right)\n",
    "\n",
    "# Day 1\n",
    "\n",
    "for i in range(0, len(left)):\n",
    "    distance += abs(sorted_left - sorted_right)\n",
    "\n",
    "print(distance)"
   ]
  },
  {
   "cell_type": "code",
   "execution_count": 36,
   "id": "ef520e22a206c9e7",
   "metadata": {
    "ExecuteTime": {
     "end_time": "2024-12-02T00:34:58.590117Z",
     "start_time": "2024-12-02T00:34:58.587955Z"
    },
    "collapsed": false
   },
   "outputs": [
    {
     "name": "stdout",
     "output_type": "stream",
     "text": [
      "27647262\n"
     ]
    }
   ],
   "source": [
    "# task 2\n",
    "\n",
    "similar = {}\n",
    "\n",
    "for i in left:\n",
    "    for j in right:\n",
    "        if i == j:\n",
    "            if i in similar.keys():\n",
    "                similar[i] += 1\n",
    "            else:\n",
    "                similar[i] = 1\n",
    "\n",
    "value = 0\n",
    "\n",
    "for key in similar.keys():\n",
    "    value += (key*similar[key])\n",
    "    \n",
    "print(value)"
   ]
  }
 ],
 "metadata": {
  "kernelspec": {
   "display_name": "Python 3",
   "language": "python",
   "name": "python3"
  },
  "language_info": {
   "codemirror_mode": {
    "name": "ipython",
    "version": 2
   },
   "file_extension": ".py",
   "mimetype": "text/x-python",
   "name": "python",
   "nbconvert_exporter": "python",
   "pygments_lexer": "ipython2",
   "version": "2.7.6"
  }
 },
 "nbformat": 4,
 "nbformat_minor": 5
}
